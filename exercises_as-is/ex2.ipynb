{
 "cells": [
  {
   "cell_type": "markdown",
   "metadata": {},
   "source": [
    "# ex2\n",
    "\n",
    "数値・文字列・リスト・タプル・辞書を全て使った関数を定義せよ．\n",
    "\n",
    "（以下，解答欄）"
   ]
  },
  {
   "cell_type": "markdown",
   "metadata": {},
   "source": []
  }
 ],
 "metadata": {
  "judge_submission": {
   "exercises": {
    "ex2": "any version string"
   },
   "extraction": false
  },
  "kernelspec": {
   "display_name": "Python 3",
   "language": "python",
   "name": "python3"
  }
 },
 "nbformat": 4,
 "nbformat_minor": 4
}
