{
 "cells": [
  {
   "cell_type": "markdown",
   "metadata": {},
   "source": [
    "# ex2\n",
    "\n",
    "数値・文字列・リスト・タプル・辞書を全て使った関数を定義せよ．\n",
    "\n",
    "（以下，解答欄）"
   ]
  },
  {
   "cell_type": "markdown",
   "metadata": {},
   "source": []
  }
 ],
 "metadata": {
  "judge_master": {
   "autograde": false,
   "deadlines": {
    "begins_at": null,
    "opens_at": null,
    "checks_at": null,
    "closes_at": null,
    "ends_at": null
   },
   "exercise_key": "ex2",
   "version": "29093b9d4b6c9756458709fbea08327aea6087ad"
  },
  "kernelspec": {
   "display_name": "Python 3",
   "language": "python",
   "name": "python3"
  },
  "language_info": {
   "name": ""
  }
 },
 "nbformat": 4,
 "nbformat_minor": 4
}
