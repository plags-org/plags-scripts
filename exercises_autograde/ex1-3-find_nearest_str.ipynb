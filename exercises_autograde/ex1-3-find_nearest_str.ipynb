{
 "cells": [
  {
   "cell_type": "markdown",
   "metadata": {},
   "source": [
    "***CONTENT_TYPE: WARNING***  \n",
    "`CONTENT_TYPE:`から始まるセルは，システム用なので書き換えないで下さい．"
   ]
  },
  {
   "cell_type": "markdown",
   "metadata": {},
   "source": [
    "***CONTENT_TYPE: CONTENT***  \n",
    "↓課題説明を書いてください．\n",
    "`## 課題名` から始まるMarkdownセルで始めてください．\n",
    "その`課題名`は，課題一覧に表示されます．\n",
    "複数セル可，省略不可．"
   ]
  },
  {
   "cell_type": "markdown",
   "metadata": {},
   "source": [
    "## Ex1-3. Find nearest string\n",
    "文字列のイテラブル`iterable`と，文字列`key`を取って，`iterable`の中から`key`と辞書順で一番近い値を返す関数`find_nearest_str(iterable, key)`を定義せよ．"
   ]
  },
  {
   "cell_type": "markdown",
   "metadata": {},
   "source": [
    "***CONTENT_TYPE: STUDENT_CODE_CELL***  \n",
    "↓解答セルにおける既定のコード内容を記述してください．\n",
    "複数セル不可，空白可．"
   ]
  },
  {
   "cell_type": "code",
   "execution_count": null,
   "metadata": {},
   "outputs": [],
   "source": [
    "QUESTION_EXISTS = False # 質問がある場合は True にしてコメントに質問を記述\n",
    "\n",
    "def find_nearest_str(iterable, key):\n",
    "    ..."
   ]
  },
  {
   "cell_type": "markdown",
   "metadata": {},
   "source": [
    "***CONTENT_TYPE: EXPLANATION***  \n",
    "↓課題解説を記述してください．\n",
    "`## ...` から始まるMarkdownセルで始めてください．\n",
    "複数セル可，省略可．"
   ]
  },
  {
   "cell_type": "markdown",
   "metadata": {},
   "source": []
  },
  {
   "cell_type": "markdown",
   "metadata": {},
   "source": [
    "***CONTENT_TYPE: ANSWER_EXAMPLES***  \n",
    "↓解答例をコードセルに記述してください．\n",
    "ここで記述されたコードは，自動評価には使われず，このipynb上でテストコードを走らせたり，解説用ipynbのためにあります．\n",
    "複数セル可，省略可．"
   ]
  },
  {
   "cell_type": "code",
   "execution_count": null,
   "metadata": {},
   "outputs": [],
   "source": [
    "# A model answer\n",
    "def find_nearest_str(iterable, key):\n",
    "    ss = list(iterable)\n",
    "    ss.append(key)\n",
    "    ss.sort()\n",
    "    if ss.count(key) > 1:\n",
    "        return key\n",
    "    if len(ss) == 1:\n",
    "        return None\n",
    "    i = ss.index(key)   \n",
    "    if i > 0:\n",
    "        return ss[i-1]\n",
    "    else:\n",
    "        return ss[i+1]"
   ]
  },
  {
   "cell_type": "code",
   "execution_count": null,
   "metadata": {},
   "outputs": [],
   "source": [
    "# A wrong example to fail to pass tests\n",
    "def find_nearest_str(iterable, key):\n",
    "    ss = list(iterable)\n",
    "    ss.append(key)\n",
    "    ss.sort()\n",
    "    if len(ss) == 1:\n",
    "        return None\n",
    "    i = ss.index(key)   \n",
    "    if i > 0:\n",
    "        return ss[i-1]\n",
    "    else:\n",
    "        return ss[i+1]"
   ]
  },
  {
   "cell_type": "markdown",
   "metadata": {},
   "source": [
    "***CONTENT_TYPE: STUDENT_TESTS***  \n",
    "↓学生版向けのテスト指示とテストコードを記述してください．\n",
    "複数セル可，省略可．"
   ]
  },
  {
   "cell_type": "markdown",
   "metadata": {},
   "source": [
    "次のコードセルを実行して，エラーが出ないことを確認してください．"
   ]
  },
  {
   "cell_type": "code",
   "execution_count": null,
   "metadata": {},
   "outputs": [],
   "source": [
    "assert find_nearest_str(['ab', 'aaa', 'ba', 'aab', 'bb'], 'aba') in ('ab', 'ba')\n",
    "assert find_nearest_str([], 'aba') == None"
   ]
  },
  {
   "cell_type": "markdown",
   "metadata": {},
   "source": [
    "***CONTENT_TYPE: SYSTEM_TEST_CASES***  \n",
    "次の点に留意して自動評価に使われるテストコードを記述してください．\n",
    "\n",
    "* **1つのコードセルが1つの独立したモジュール**になります．\n",
    "* 各セルの先頭行には，**一意なモジュール名**をコメントで指定してください．\n",
    "* 2行目以降は，**利用する外部ファイルの相対パス**を行毎にコメントで指定してください．指定されるファイルは，このipynbのディレクトリ以下に存在する必要があります．\n",
    "* それらのヘッダコメントが終わった後から，プログラムコードとして解釈されます．\n",
    "* 1つのモジュールが1つのstageとして扱われ，セルの出現順で実行されます．\n",
    "\n",
    "複数セル可，省略可．"
   ]
  },
  {
   "cell_type": "code",
   "execution_count": null,
   "metadata": {},
   "outputs": [],
   "source": [
    "## precheck\n",
    "# .judge/judge_util.py\n",
    "\n",
    "import sys\n",
    "sys.path.append('.judge')\n",
    "import judge_util # モジュール全体をそのままの名前でimport\n",
    "\n",
    "# この名前は任意\n",
    "Precheck = judge_util.testcase(score=1) # 正解時の得点（default: 1）\n",
    "\n",
    "# テスト対象の定義の有無を検査\n",
    "@judge_util.name_error_trap(Precheck, 'ND') # NameErrorを捉えてタグ付けする\n",
    "def function_exists(): # selfを取らない\n",
    "    find_nearest_str # 定義の有無を調べたい名前を参照（定義が無いときに NameError を起こす）\n",
    "\n",
    "# 検査対象を実行しない静的検査\n",
    "@judge_util.check_method(Precheck, 'NF') # 失敗時に付くタグ（オプショナル）\n",
    "def function_filled(self):               # エラー時にはタグが付かない\n",
    "    self.assertFalse(judge_util.is_ellipsis_body(find_nearest_str)) # ...のみをbodyに持つなら失敗 \n",
    "\n",
    "# 得点に影響しないタグ付け\n",
    "@judge_util.check_method(Precheck)\n",
    "def question_exists(self):\n",
    "    try:\n",
    "        QUESTION_EXISTS\n",
    "    except NameError:\n",
    "        pass\n",
    "    else:\n",
    "        if QUESTION_EXISTS:\n",
    "            judge_util.set_ok_tag(self, 'QE')"
   ]
  },
  {
   "cell_type": "code",
   "execution_count": null,
   "metadata": {},
   "outputs": [],
   "source": [
    "## given\n",
    "# .judge/judge_util.py\n",
    "\n",
    "import sys\n",
    "sys.path.append('.judge')\n",
    "import judge_util # モジュール全体をそのままの名前でimport\n",
    "\n",
    "# この名前は任意\n",
    "Given = judge_util.testcase(score=1) # 正解時の得点（default: 1）\n",
    "\n",
    "# 検査対象を実行して出力を比較するテスト\n",
    "@judge_util.test_method(Given) # 成功時にCOタグ，失敗時にIOタグを付与\n",
    "def g0(self):\n",
    "    self.assertIn(find_nearest_str(['ab', 'aaa', 'ba', 'aab', 'bb'], 'aba'), ('ab', 'ba'))\n",
    "\n",
    "@judge_util.test_method(Given)\n",
    "def g1(self):\n",
    "    judge_util.set_ok_tag(self, None)   # 成功時のタグを消去\n",
    "    judge_util.set_fail_tag(self, 'GF') # 失敗時のタグを上書き\n",
    "    _find_nearest_str = judge_util.argument_logger(find_nearest_str) # 引数のロギング（オプショナル）\n",
    "    self.assertEqual(_find_nearest_str([], 'aba'), None)\n",
    "\n",
    "#NOTE: \n",
    "# 引数ロギングは実引数がリテラルに記述されない時に役立つ．\n",
    "# 自動評価結果のdebug messageにログが出力される．"
   ]
  },
  {
   "cell_type": "code",
   "execution_count": null,
   "metadata": {},
   "outputs": [],
   "source": [
    "## hidden\n",
    "# .judge/judge_util.py\n",
    "\n",
    "import sys\n",
    "sys.path.append('.judge')\n",
    "import judge_util # モジュール全体をそのままの名前でimport\n",
    "\n",
    "# この名前は任意\n",
    "Hidden = judge_util.testcase(score=1)\n",
    "\n",
    "@judge_util.test_method(Hidden)\n",
    "def h0(self):\n",
    "    self.assertEqual(find_nearest_str(['a','b'], 'a'), 'a')\n",
    "    self.assertEqual(find_nearest_str(['a','b'], 'b'), 'b')\n",
    "\n",
    "@judge_util.test_method(Hidden)\n",
    "def h1(self):\n",
    "    self.assertEqual(find_nearest_str(['a'], 'b'), 'a')\n",
    "    self.assertEqual(find_nearest_str(['b'], 'a'), 'b')"
   ]
  },
  {
   "cell_type": "markdown",
   "metadata": {},
   "source": [
    "***CONTENT_TYPE: SYSTEM_TEST_CASES_EXECUTE_CELL***  \n",
    "上のセルで定義したテストコードを実行するコードです．\n",
    "自動評価と同等の結果を得ます．"
   ]
  },
  {
   "cell_type": "code",
   "execution_count": null,
   "metadata": {},
   "outputs": [],
   "source": [
    "judge_util.unittest_main(True)"
   ]
  }
 ],
 "metadata": {
  "judge_master": {
   "autograde": true,
   "deadlines": {
    "begins_at": null,
    "opens_at": null,
    "checks_at": null,
    "closes_at": null,
    "ends_at": null
   },
   "drive": null,
   "exercise_key": "ex1-3-find_nearest_str",
   "title": "Ex1-3. Find nearest string",
   "version": "555cfbb3aa4178491481c6847512b97f1f89b995"
  },
  "kernelspec": {
   "display_name": "Python 3",
   "language": "python",
   "name": "python3"
  },
  "language_info": {
   "name": ""
  }
 },
 "nbformat": 4,
 "nbformat_minor": 4
}
