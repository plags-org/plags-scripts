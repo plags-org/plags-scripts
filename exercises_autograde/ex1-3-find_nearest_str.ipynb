{
 "cells": [
  {
   "cell_type": "markdown",
   "metadata": {},
   "source": [
    "***CONTENT_TYPE: WARNING***  \n",
    "`CONTENT_TYPE:`から始まるセルは，システム用なので書き換えないで下さい．"
   ]
  },
  {
   "cell_type": "markdown",
   "metadata": {},
   "source": [
    "***CONTENT_TYPE: CONTENT***  \n",
    "↓課題説明を書いてください．\n",
    "`## 課題名` から始まるMarkdownセルで始めてください．\n",
    "その`課題名`は，課題一覧に表示されます．\n",
    "複数セル可，省略不可．"
   ]
  },
  {
   "cell_type": "markdown",
   "metadata": {},
   "source": [
    "## Ex1-3. Find nearest string\n",
    "文字列のイテラブル`iterable`と，文字列`key`を取って，`iterable`の中から`key`と辞書順で一番近い値を返す関数`find_nearest_str(iterable, key)`を定義せよ．"
   ]
  },
  {
   "cell_type": "markdown",
   "metadata": {},
   "source": [
    "***CONTENT_TYPE: STUDENT_CODE_CELL***  \n",
    "↓解答セルにおける既定のコード内容を記述してください．\n",
    "複数セル不可，空白可．"
   ]
  },
  {
   "cell_type": "code",
   "execution_count": null,
   "metadata": {},
   "outputs": [],
   "source": [
    "def find_nearest_str(iterable, key):\n",
    "    ..."
   ]
  },
  {
   "cell_type": "markdown",
   "metadata": {},
   "source": [
    "***CONTENT_TYPE: EXPLANATION***  \n",
    "↓課題解説を記述してください．\n",
    "`## ...` から始まるMarkdownセルで始めてください．\n",
    "複数セル可，省略可．"
   ]
  },
  {
   "cell_type": "markdown",
   "metadata": {},
   "source": []
  },
  {
   "cell_type": "markdown",
   "metadata": {},
   "source": [
    "***CONTENT_TYPE: ANSWER_EXAMPLES***  \n",
    "↓解答例をコードセルに記述してください．\n",
    "ここで記述されたコードは，自動評価には使われず，このipynb上でテストコードを走らせたり，解説用ipynbのためにあります．\n",
    "複数セル可，省略可．"
   ]
  },
  {
   "cell_type": "code",
   "execution_count": null,
   "metadata": {},
   "outputs": [],
   "source": [
    "# A model answer\n",
    "def find_nearest_str(iterable, key):\n",
    "    ss = list(iterable)\n",
    "    ss.append(key)\n",
    "    ss.sort()\n",
    "    if ss.count(key) > 1:\n",
    "        return key\n",
    "    if len(ss) == 1:\n",
    "        return None\n",
    "    i = ss.index(key)   \n",
    "    if i > 0:\n",
    "        return ss[i-1]\n",
    "    else:\n",
    "        return ss[i+1]"
   ]
  },
  {
   "cell_type": "code",
   "execution_count": null,
   "metadata": {},
   "outputs": [],
   "source": [
    "# A wrong example to fail to pass tests\n",
    "def find_nearest_str(iterable, key):\n",
    "    ss = list(iterable)\n",
    "    ss.append(key)\n",
    "    ss.sort()\n",
    "    if len(ss) == 1:\n",
    "        return None\n",
    "    i = ss.index(key)   \n",
    "    if i > 0:\n",
    "        return ss[i-1]\n",
    "    else:\n",
    "        return ss[i+1]"
   ]
  },
  {
   "cell_type": "markdown",
   "metadata": {},
   "source": [
    "***CONTENT_TYPE: STUDENT_TESTS***  \n",
    "↓学生版向けのテスト指示とテストコードを記述してください．\n",
    "複数セル可，省略可．"
   ]
  },
  {
   "cell_type": "markdown",
   "metadata": {},
   "source": [
    "次のコードセルを実行して，エラーが出ないことを確認してください．"
   ]
  },
  {
   "cell_type": "code",
   "execution_count": null,
   "metadata": {},
   "outputs": [],
   "source": [
    "assert find_nearest_str(['ab', 'aaa', 'ba', 'aab', 'bb'], 'aba') in ('ab', 'ba')\n",
    "assert find_nearest_str([], 'aba') == None"
   ]
  },
  {
   "cell_type": "markdown",
   "metadata": {},
   "source": [
    "***CONTENT_TYPE: SYSTEM_TEST_CASES***  \n",
    "↓自動評価向けのテストケースを記述してください．\n",
    "**1つのセルが1つの独立したテストモジュール**になります．\n",
    "**セル先頭には一意なファイル名を含むコメント行**を付与してください．\n",
    "複数セル可，省略可．"
   ]
  },
  {
   "cell_type": "code",
   "execution_count": null,
   "metadata": {},
   "outputs": [],
   "source": [
    "## is_valid_submission.py\n",
    "\n",
    "import sys\n",
    "sys.path.append('.judge')\n",
    "import judge_util # モジュール全体をそのままの名前でimport\n",
    "\n",
    "# この名前は任意\n",
    "IsValidSubmission = judge_util.testcase(score=1) # 正解時の得点（default: 1）\n",
    "\n",
    "# precheckは対象関数に対する静的検査\n",
    "@judge_util.precheck(IsValidSubmission)\n",
    "def function_exists():\n",
    "    # assertせずに例外を投げるのでselfを取らない\n",
    "    find_nearest_str # 定義されていなければNameError\n",
    "\n",
    "@judge_util.precheck(IsValidSubmission)\n",
    "def function_filled():\n",
    "    judge_util.raise_if_null_function(find_nearest_str) # ...のみをbodyに持つ関数なら例外を投げる"
   ]
  },
  {
   "cell_type": "code",
   "execution_count": null,
   "metadata": {},
   "outputs": [],
   "source": [
    "## given.py\n",
    "\n",
    "import sys\n",
    "sys.path.append('.judge')\n",
    "import judge_util # モジュール全体をそのままの名前でimport\n",
    "\n",
    "# この名前は任意\n",
    "Given = judge_util.testcase(score=1) # 正解時の得点（default: 1）\n",
    "\n",
    "@judge_util.testmethod(Given)\n",
    "def G0(self):\n",
    "    # 引数のselfはunittest.TestCaseのインスタンス\n",
    "    self.assertIn(find_nearest_str(['ab', 'aaa', 'ba', 'aab', 'bb'], 'aba'), ('ab', 'ba'))\n",
    "\n",
    "@judge_util.testmethod(Given)\n",
    "def G1(self):\n",
    "    _find_nearest_str = judge_util.argument_logger(find_nearest_str) # 引数のロギング（オプショナル）\n",
    "    self.assertEqual(_find_nearest_str([], 'aba'), None)\n",
    "\n",
    "#NOTE: \n",
    "# 引数ロギングは実引数がリテラルに記述されない時に役立つ．\n",
    "# 自動評価結果のErrorの部分にログが出力される．"
   ]
  },
  {
   "cell_type": "code",
   "execution_count": null,
   "metadata": {},
   "outputs": [],
   "source": [
    "## additional.py\n",
    "\n",
    "import sys\n",
    "sys.path.append('.judge')\n",
    "import judge_util # モジュール全体をそのままの名前でimport\n",
    "\n",
    "# この名前は任意\n",
    "Additional = judge_util.testcase(score=1)\n",
    "\n",
    "@judge_util.testmethod(Additional)\n",
    "def A0(self):\n",
    "    self.assertEqual(find_nearest_str(['a','b'], 'a'), 'a')\n",
    "    self.assertEqual(find_nearest_str(['a','b'], 'b'), 'b')\n",
    "\n",
    "@judge_util.testmethod(Additional)\n",
    "def A1(self):\n",
    "    self.assertEqual(find_nearest_str(['a'], 'b'), 'a')\n",
    "    self.assertEqual(find_nearest_str(['b'], 'a'), 'b')"
   ]
  },
  {
   "cell_type": "markdown",
   "metadata": {},
   "source": [
    "***CONTENT_TYPE: SYSTEM_TEST_CASES_EXECUTE_CELL***  \n",
    "上のセルで定義したテストコードを実行するコードです．\n",
    "自動評価と同等の結果を得ます．"
   ]
  },
  {
   "cell_type": "code",
   "execution_count": null,
   "metadata": {},
   "outputs": [],
   "source": [
    "import unittest\n",
    "unittest.main(argv=[''], exit=False)\n",
    "print('----\\n', judge_util.read_argument_log(), sep='', file=sys.stderr)"
   ]
  },
  {
   "cell_type": "markdown",
   "metadata": {},
   "source": [
    "***CONTENT_TYPE: SYSTEM_TEST_SETTING***  \n",
    "↓自動評価向けの各種設定を記述してください．\n",
    "直下のセル1つのみ有効，省略不可．"
   ]
  },
  {
   "cell_type": "code",
   "execution_count": null,
   "metadata": {},
   "outputs": [],
   "source": [
    "# テストモジュール名とそこで使われるファイルパスのリストの組をテストの実行順で並べたリスト\n",
    "testlist = [\n",
    "    ('is_valid_submission', ['.judge/judge_util.py']),\n",
    "    ('given', ['.judge/judge_util.py']),\n",
    "    ('additional', ['.judge/judge_util.py']),\n",
    "]\n",
    "\n",
    "# 以下はテンプレート\n",
    "import sys\n",
    "if 'IPython' in sys.modules:\n",
    "    sys.path.append('..') # judge_setting.pyを読み込む準備\n",
    "    from judge_setting import generate_system_test_setting\n",
    "\n",
    "generate_system_test_setting(testlist)"
   ]
  }
 ],
 "metadata": {
  "judge_master": {
   "autograde": true,
   "deadlines": {
    "begins_at": null,
    "opens_at": null,
    "checks_at": null,
    "closes_at": null,
    "ends_at": null
   },
   "exercise_key": "ex1-3-find_nearest_str",
   "title": "Ex1-3. Find nearest string",
   "version": "9293177b3a382bd4fdebfdff17c68dca3e383a0d"
  },
  "kernelspec": {
   "display_name": "Python 3",
   "language": "python",
   "name": "python3"
  },
  "language_info": {
   "name": ""
  }
 },
 "nbformat": 4,
 "nbformat_minor": 4
}
