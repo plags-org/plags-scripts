{
 "cells": [
  {
   "cell_type": "markdown",
   "metadata": {},
   "source": [
    "***CONTENT_TYPE: WARNING***  \n",
    "`CONTENT_TYPE:`から始まるセルは，システム用なので書き換えないで下さい．"
   ]
  },
  {
   "cell_type": "markdown",
   "metadata": {},
   "source": [
    "***CONTENT_TYPE: DESCRIPTION***  \n",
    "課題説明を書いてください．\n",
    "`## 課題タイトル` から始まるMarkdownセルで始めてください．\n",
    "その`課題タイトル`は，課題一覧に表示されます．\n",
    "複数セル可，省略不可．"
   ]
  },
  {
   "cell_type": "markdown",
   "metadata": {},
   "source": [
    "## Demonstration of test template generation \n",
    "浮動小数点数`x`を取って，その立方根を返す関数`cbrt(x)`を定義せよ．"
   ]
  },
  {
   "cell_type": "markdown",
   "metadata": {},
   "source": [
    "***CONTENT_TYPE: ANSWER_CELL_CONTENT***  \n",
    "解答セルにおける既定のコードを記述してください．\n",
    "複数セル不可，空白可．"
   ]
  },
  {
   "cell_type": "code",
   "execution_count": null,
   "metadata": {},
   "outputs": [],
   "source": [
    "QUESTION_EXISTS = False # 質問がある場合は True にしてコメントに質問を記述\n",
    "\n",
    "import random\n",
    "import os, sys\n",
    "...\n",
    "\n",
    "aux = ...\n",
    "\n",
    "def function_template(x):\n",
    "    return x + ...\n",
    "\n",
    "def cbrt(x):\n",
    "    ..."
   ]
  },
  {
   "cell_type": "markdown",
   "metadata": {},
   "source": [
    "***CONTENT_TYPE: COMMENTARY***  \n",
    "解説を記述してください．\n",
    "`## ...` から始まるMarkdownセルで始めてください．\n",
    "これは，解説用ipynbのためにあります．\n",
    "複数セル可，省略可．"
   ]
  },
  {
   "cell_type": "markdown",
   "metadata": {},
   "source": []
  },
  {
   "cell_type": "markdown",
   "metadata": {},
   "source": [
    "***CONTENT_TYPE: EXAMPLE_ANSWERS***  \n",
    "解答例をコードセルに記述してください．\n",
    "最初のセルは，模範解答であることが期待されます．\n",
    "ここで記述されたコードは，自動評価には使れませんが，このipynb上でテストコードを実行したり，補助ipynbを生成する際に使われます．\n",
    "複数セル可，省略可．"
   ]
  },
  {
   "cell_type": "code",
   "execution_count": null,
   "metadata": {},
   "outputs": [],
   "source": [
    "# A model answer\n",
    "import math\n",
    "import random, sys\n",
    "import collections.abc\n",
    "from .sibling1 import C\n",
    "from . import sibling2\n",
    "\n",
    "def cbrt(x):\n",
    "    return math.power(x, 1/3)"
   ]
  },
  {
   "cell_type": "code",
   "execution_count": null,
   "metadata": {},
   "outputs": [],
   "source": []
  },
  {
   "cell_type": "markdown",
   "metadata": {},
   "source": [
    "***CONTENT_TYPE: INSTRUCTIVE_TEST***  \n",
    "学生向けのテスト指示とテストコードを記述してください．\n",
    "複数セル可，省略可．"
   ]
  },
  {
   "cell_type": "markdown",
   "metadata": {},
   "source": [
    "次のコードセルを実行して，エラーが出ないことを確認してください．"
   ]
  },
  {
   "cell_type": "code",
   "execution_count": null,
   "metadata": {},
   "outputs": [],
   "source": [
    "assert cbrt(1) in (1,2)\n",
    "assert cbrt(1) == 1\n",
    "assert cbrt(1) != 2\n",
    "assert not cbrt(1)\n",
    "assert cbrt(1) is None\n",
    "assert cbrt(1) is not None\n",
    "assert cbrt(1)\n",
    "assert cbrt(1) < 2\n",
    "assert cbrt(1) >= 0"
   ]
  },
  {
   "cell_type": "markdown",
   "metadata": {},
   "source": [
    "***CONTENT_TYPE: SYSTEM_TESTCODE***  \n",
    "次の点に留意して自動評価に使われるテストコードを記述してください．\n",
    "\n",
    "* **1つのコードセルが1つの独立したモジュール**になります．\n",
    "* 各セルの先頭行には，**一意なモジュール名**をコメントで指定してください．\n",
    "* 2行目以降は，**利用する外部ファイルの相対パス**を行毎にコメントで指定してください．指定されるファイルは，このipynbのディレクトリ以下に存在する必要があります．\n",
    "* それらのヘッダコメントが終わった後から，プログラムコードとして解釈されます．\n",
    "* 1つのモジュールが1つのstageとして扱われ，セルの出現順で実行されます．\n",
    "\n",
    "複数セル可，省略可．"
   ]
  },
  {
   "cell_type": "code",
   "execution_count": null,
   "metadata": {},
   "outputs": [],
   "source": []
  },
  {
   "cell_type": "markdown",
   "metadata": {},
   "source": [
    "***CONTENT_TYPE: PLAYGROUND***  \n",
    "このセルより下は，課題のビルドに影響しない自由編集領域です．\n",
    "\n",
    "次のコードは，上で定義したテストコードを，このipynb上で実行するためのものです．\n",
    "自動評価と同等の結果を得ます．"
   ]
  },
  {
   "cell_type": "code",
   "execution_count": null,
   "metadata": {},
   "outputs": [],
   "source": [
    "import unittest\n",
    "unittest.main(argv=[''], exit=False)\n",
    "print('----\\n', judge_util.read_argument_log(), sep='', file=sys.stderr)"
   ]
  }
 ],
 "metadata": {
  "judge_master": {
   "autograde": true,
   "deadlines": {
    "begins_at": null,
    "checks_at": null,
    "closes_at": null,
    "ends_at": null,
    "opens_at": null
   },
   "drive": null,
   "exercise_key": "test_template",
   "title": "Demonstration of test template generation ",
   "version": ""
  },
  "kernelspec": {
   "display_name": "Python 3",
   "language": "python",
   "name": "python3"
  },
  "language_info": {
   "codemirror_mode": {
    "name": "ipython",
    "version": 3
   },
   "file_extension": ".py",
   "mimetype": "text/x-python",
   "name": "python",
   "nbconvert_exporter": "python",
   "pygments_lexer": "ipython3",
   "version": "3.8.8"
  }
 },
 "nbformat": 4,
 "nbformat_minor": 4
}
