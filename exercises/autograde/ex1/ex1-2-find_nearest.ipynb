{
 "cells": [
  {
   "cell_type": "markdown",
   "metadata": {},
   "source": [
    "***CONTENT_TYPE: WARNING***  \n",
    "`CONTENT_TYPE:`から始まるセルは，システム用なので書き換えないで下さい．"
   ]
  },
  {
   "cell_type": "markdown",
   "metadata": {},
   "source": [
    "***CONTENT_TYPE: DESCRIPTION***  \n",
    "課題説明を書いてください．\n",
    "`## 課題タイトル` から始まるMarkdownセルで始めてください．\n",
    "その`課題タイトル`は，課題一覧に表示されます．\n",
    "複数セル可，省略不可．"
   ]
  },
  {
   "cell_type": "markdown",
   "metadata": {},
   "source": [
    "## Ex1-2. Find nearest without iteration\n",
    "数値のイテラブル`iterable`と，数値`key`を取って，`iterable`の中から`key`と一番近い値を返す関数`find_nearest(iterable, key)`を，for文やwhile文による反復を用いずに定義せよ．"
   ]
  },
  {
   "cell_type": "markdown",
   "metadata": {},
   "source": [
    "***CONTENT_TYPE: ANSWER_CELL_CONTENT***  \n",
    "解答セルにおける既定のコードを記述してください．\n",
    "複数セル不可，空白可．"
   ]
  },
  {
   "cell_type": "code",
   "execution_count": null,
   "metadata": {},
   "outputs": [],
   "source": [
    "QUESTION_EXISTS = False # 質問がある場合は True にしてコメントに質問を記述\n",
    "\n",
    "def find_nearest(iterable, key):\n",
    "    ..."
   ]
  },
  {
   "cell_type": "markdown",
   "metadata": {},
   "source": [
    "***CONTENT_TYPE: COMMENTARY***  \n",
    "解説を記述してください．\n",
    "`## ...` から始まるMarkdownセルで始めてください．\n",
    "これは，解説用ipynbのためにあります．\n",
    "複数セル可，省略可．"
   ]
  },
  {
   "cell_type": "markdown",
   "metadata": {},
   "source": []
  },
  {
   "cell_type": "markdown",
   "metadata": {},
   "source": [
    "***CONTENT_TYPE: EXAMPLE_ANSWERS***  \n",
    "解答例をコードセルに記述してください．\n",
    "最初のセルは，模範解答であることが期待されます．\n",
    "ここで記述されたコードは，自動評価には使われませんが，このipynb上でテストコードを実行したり，補助ipynbを生成する際に使われます．\n",
    "複数セル可，省略可．"
   ]
  },
  {
   "cell_type": "code",
   "execution_count": null,
   "metadata": {},
   "outputs": [],
   "source": [
    "# A model answer\n",
    "def find_nearest(iterable, key):\n",
    "    return min(iterable, default=None, key=lambda x: abs(x - key))"
   ]
  },
  {
   "cell_type": "code",
   "execution_count": null,
   "metadata": {},
   "outputs": [],
   "source": [
    "# A wrong example missing `abs`\n",
    "def find_nearest(iterable, key):\n",
    "    return min(iterable, default=None, key=lambda x: x - key)"
   ]
  },
  {
   "cell_type": "code",
   "execution_count": null,
   "metadata": {},
   "outputs": [],
   "source": [
    "#　A wrong example using a loop\n",
    "def find_nearest(iterable, key):\n",
    "    nearest = None\n",
    "    for x in iterable:\n",
    "        if nearest is None or abs(x - key) < abs(nearest - key):\n",
    "            nearest = x\n",
    "    return nearest"
   ]
  },
  {
   "cell_type": "markdown",
   "metadata": {},
   "source": [
    "***CONTENT_TYPE: INSTRUCTIVE_TEST***  \n",
    "学生向けのテスト指示とテストコードを記述してください．\n",
    "複数セル可，省略可．"
   ]
  },
  {
   "cell_type": "markdown",
   "metadata": {},
   "source": [
    "次のコードセルを実行して，エラーが出ないことを確認してください．"
   ]
  },
  {
   "cell_type": "code",
   "execution_count": null,
   "metadata": {},
   "outputs": [],
   "source": [
    "assert find_nearest(range(10), 7) == 7\n",
    "assert find_nearest(range(1,20,2), 4) in (3,5)"
   ]
  },
  {
   "cell_type": "markdown",
   "metadata": {},
   "source": [
    "***CONTENT_TYPE: SYSTEM_TESTCODE***  \n",
    "次の点に留意して自動評価に使われるテストコードを記述してください．\n",
    "\n",
    "* **1つのコードセルが1つの独立したモジュール**になります．\n",
    "* 各セルの先頭行には，**一意なモジュール名**をコメントで指定してください．\n",
    "* 2行目以降は，**利用する外部ファイルの相対パス**を行毎にコメントで指定してください．指定されるファイルは，このipynbのディレクトリ以下に存在する必要があります．\n",
    "* それらのヘッダコメントが終わった後から，プログラムコードとして解釈されます．\n",
    "* 1つのモジュールが1つのstageとして扱われ，セルの出現順で実行されます．\n",
    "\n",
    "複数セル可，省略可．"
   ]
  },
  {
   "cell_type": "code",
   "execution_count": null,
   "metadata": {},
   "outputs": [],
   "source": [
    "## precheck\n",
    "# .judge/judge_util.py\n",
    "\n",
    "import sys\n",
    "sys.path.append('.judge')\n",
    "import judge_util # モジュール全体をそのままの名前でimport\n",
    "\n",
    "# この名前は任意\n",
    "Precheck = judge_util.testcase(score=1) # 正解時の得点（default: 1）\n",
    "\n",
    "# テスト対象の定義の有無を検査\n",
    "@judge_util.name_error_trap(Precheck, 'ND') # NameErrorを捉えてタグ付けする\n",
    "def function_exists(): # selfを取らない\n",
    "    find_nearest # 定義の有無を調べたい名前を参照（定義が無いときに NameError を起こす）\n",
    "\n",
    "# 検査対象を実行しない静的検査\n",
    "@judge_util.check_method(Precheck, 'NF') # 失敗時に付くタグ（オプショナル）\n",
    "def function_filled(self):               # エラー時にはタグが付かない\n",
    "    self.assertFalse(judge_util.is_ellipsis_body(find_nearest)) # ...のみをbodyに持つなら失敗 \n",
    "\n",
    "@judge_util.check_method(Precheck, 'LE')\n",
    "def loop_exists(self):\n",
    "    self.assertEqual(judge_util.find_loop(find_nearest), None) # for/while文を持つなら失敗 \n",
    "\n",
    "# 得点に影響しないタグ付け\n",
    "@judge_util.check_method(Precheck)\n",
    "def question_exists(self):\n",
    "    try:\n",
    "        QUESTION_EXISTS\n",
    "    except NameError:\n",
    "        pass\n",
    "    else:\n",
    "        if QUESTION_EXISTS:\n",
    "            judge_util.set_ok_tag(self, 'QE')"
   ]
  },
  {
   "cell_type": "code",
   "execution_count": null,
   "metadata": {},
   "outputs": [],
   "source": [
    "## given\n",
    "# .judge/judge_util.py\n",
    "\n",
    "import sys\n",
    "sys.path.append('.judge')\n",
    "import judge_util # モジュール全体をそのままの名前でimport\n",
    "\n",
    "# この名前は任意\n",
    "Given = judge_util.testcase(score=1) # 正解時の得点（default: 1）\n",
    "\n",
    "# 検査対象を実行して出力を比較するテスト\n",
    "@judge_util.test_method(Given) # 成功時にCOタグ，失敗時にIOタグを付与\n",
    "def g0(self):\n",
    "    # 引数のselfはunittest.TestCaseのインスタンス\n",
    "    self.assertEqual(find_nearest(range(10), 7), 7)\n",
    "\n",
    "@judge_util.test_method(Given)\n",
    "def g1(self):\n",
    "    judge_util.set_ok_tag(self, None)   # 成功時のタグを消去\n",
    "    judge_util.set_fail_tag(self, 'GF') # 失敗時のタグを上書き\n",
    "    _find_nearest = judge_util.argument_logger(find_nearest) # 引数のロギング（オプショナル）\n",
    "    self.assertIn(_find_nearest(range(1,20,2), 4), (3,5))\n",
    "\n",
    "#NOTE: \n",
    "# 引数ロギングは実引数がリテラルに記述されない時に役立つ．\n",
    "# 自動評価結果のErrorの部分にログが出力される．"
   ]
  },
  {
   "cell_type": "code",
   "execution_count": null,
   "metadata": {},
   "outputs": [],
   "source": [
    "## hidden\n",
    "# .judge/judge_util.py\n",
    "\n",
    "import sys\n",
    "sys.path.append('.judge')\n",
    "import judge_util # モジュール全体をそのままの名前でimport\n",
    "\n",
    "# この名前は任意\n",
    "Hidden = judge_util.testcase(score=1)\n",
    "\n",
    "@judge_util.test_method(Hidden)\n",
    "def h0(self):\n",
    "    self.assertEqual(find_nearest(range(10), 3), 3)\n",
    "\n",
    "@judge_util.test_method(Hidden)\n",
    "def h1(self):\n",
    "    self.assertIn(find_nearest(range(1,20,2), 6), (5,7))"
   ]
  },
  {
   "cell_type": "markdown",
   "metadata": {},
   "source": [
    "***CONTENT_TYPE: PLAYGROUND***  \n",
    "このセルより下は，課題のビルドに影響しない自由編集領域です．\n",
    "\n",
    "次のコードは，上で定義したテストコードを，このipynb上で実行するためのものです．\n",
    "自動評価と同等の結果を得ます．"
   ]
  },
  {
   "cell_type": "code",
   "execution_count": null,
   "metadata": {},
   "outputs": [],
   "source": [
    "judge_util.unittest_main()"
   ]
  }
 ],
 "metadata": {
  "judge_master": {
   "autograde": true,
   "deadlines": {
    "begin": null,
    "open": null,
    "check": null,
    "close": null,
    "end": null
   },
   "drive": null,
   "exercise_key": "ex1-2-find_nearest",
   "shared_after_confirmed": null,
   "title": "Ex1-2. Find nearest without iteration",
   "version": "6e262b12b9ec3e91f0ed234c432568a133159697"
  },
  "kernelspec": {
   "display_name": "Python 3",
   "language": "python",
   "name": "python3"
  },
  "language_info": {
   "name": "python"
  }
 },
 "nbformat": 4,
 "nbformat_minor": 4
}
