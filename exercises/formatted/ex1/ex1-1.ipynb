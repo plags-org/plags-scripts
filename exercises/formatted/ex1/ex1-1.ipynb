{
 "cells": [
  {
   "cell_type": "markdown",
   "metadata": {},
   "source": [
    "***CONTENT_TYPE: WARNING***  \n",
    "`CONTENT_TYPE:`から始まるセルは，システム用なので書き換えないで下さい．"
   ]
  },
  {
   "cell_type": "markdown",
   "metadata": {},
   "source": [
    "***CONTENT_TYPE: DESCRIPTION***  \n",
    "課題説明を書いてください．\n",
    "`## 課題タイトル` から始まるMarkdownセルで始めてください．\n",
    "その`課題タイトル`は，課題一覧に表示されます．\n",
    "複数セル可，省略不可．"
   ]
  },
  {
   "cell_type": "markdown",
   "metadata": {},
   "source": [
    "## Ex1-1. Find nearest\n",
    "数値のイテラブル`iterable`と，数値`key`を取って，`iterable`の中から`key`と一番近い値を返す関数`find_nearest(iterable, key)`を定義せよ．"
   ]
  },
  {
   "cell_type": "markdown",
   "metadata": {},
   "source": [
    "***CONTENT_TYPE: ANSWER_CELL_CONTENT***  \n",
    "解答セルにおける既定のコードを記述してください．\n",
    "複数セル不可，空白可．"
   ]
  },
  {
   "cell_type": "code",
   "execution_count": null,
   "metadata": {},
   "outputs": [],
   "source": [
    "QUESTION_EXISTS = False # 質問がある場合は True にしてコメントに質問を記述\n",
    "\n",
    "def find_nearest(iterable, key):\n",
    "    ..."
   ]
  },
  {
   "cell_type": "markdown",
   "metadata": {},
   "source": [
    "***CONTENT_TYPE: EXAMPLE_ANSWERS***  \n",
    "解答例をコードセルに記述してください．\n",
    "最初のセルは，模範解答であることが期待されます．\n",
    "ここで記述されたコードは，自動評価には使われませんが，このipynb上でテストコードを実行したり，補助ipynbを生成する際に使われます．\n",
    "複数セル可，省略可．"
   ]
  },
  {
   "cell_type": "code",
   "execution_count": null,
   "metadata": {},
   "outputs": [],
   "source": [
    "# A model answer\n",
    "def find_nearest(iterable, key):\n",
    "    nearest = None\n",
    "    for x in iterable:\n",
    "        if nearest is None or abs(x - key) < abs(nearest - key):\n",
    "            nearest = x\n",
    "    return nearest"
   ]
  },
  {
   "cell_type": "code",
   "execution_count": null,
   "metadata": {},
   "outputs": [],
   "source": [
    "# A wrong example to fail tests\n",
    "def find_nearest(iterable, key):\n",
    "    nearest = None\n",
    "    for x in iterable:\n",
    "        if nearest is None or x - key < nearest - key:\n",
    "            nearest = x\n",
    "    return nearest"
   ]
  },
  {
   "cell_type": "markdown",
   "metadata": {},
   "source": [
    "***CONTENT_TYPE: INSTRUCTIVE_TEST***  \n",
    "学生向けのテスト指示とテストコードを記述してください．\n",
    "複数セル可，省略可．"
   ]
  },
  {
   "cell_type": "markdown",
   "metadata": {},
   "source": [
    "次のコードセルを実行して，エラーが出ないことを確認してください．"
   ]
  },
  {
   "cell_type": "code",
   "execution_count": null,
   "metadata": {},
   "outputs": [],
   "source": [
    "assert find_nearest(range(10), 7) == 7\n",
    "assert find_nearest(range(1,20,2), 4) in (3,5)"
   ]
  },
  {
   "cell_type": "markdown",
   "metadata": {},
   "source": [
    "***CONTENT_TYPE: SYSTEM_TESTCODE***  \n",
    "次の点に留意して自動評価に使われるテストコードを記述してください．\n",
    "\n",
    "* **1つのコードセルが1つの独立したモジュール**になります．\n",
    "* 1つのモジュールが1つのstageとして扱われ，セルの出現順で実行されます．\n",
    "* 各セルに `judge_util.teststage` が返すクラスを，**グローバルに1つ**定義してください．\n",
    "\n",
    "複数セル可，省略可．"
   ]
  },
  {
   "cell_type": "code",
   "execution_count": null,
   "metadata": {},
   "outputs": [],
   "source": [
    "import judge_util # モジュール全体をそのままの名前でimport\n",
    "\n",
    "Precheck = judge_util.teststage()\n",
    "\n",
    "# 検査対象を実行しない静的検査\n",
    "@judge_util.check_method(Precheck, 'NF') # 失敗（≠エラー）時に付くタグ（オプショナル）\n",
    "def function_filled(self):\n",
    "    judge_util.set_error_tag(self, 'ND', NameError) # NameErrorが生じたらNDタグをつける\n",
    "    self.assertFalse(judge_util.is_ellipsis_body(find_nearest)) # ...のみをbodyに持つなら失敗"
   ]
  },
  {
   "cell_type": "code",
   "execution_count": null,
   "metadata": {},
   "outputs": [],
   "source": [
    "import judge_util # モジュール全体をそのままの名前でimport\n",
    "\n",
    "Given = judge_util.teststage()\n",
    "\n",
    "# 検査対象を実行して出力を比較するテスト\n",
    "@judge_util.test_method(Given) # 成功時にCOタグ，失敗時にIOタグを付与\n",
    "def g0(self):\n",
    "    # 引数のselfはunittest.TestCaseのインスタンス\n",
    "    judge_util.set_unsuccessful_message(self, 'Check if your answer is self-contained within the answer cell.')\n",
    "    self.assertEqual(find_nearest(range(10), 7), 7)\n",
    "\n",
    "@judge_util.test_method(Given)\n",
    "def g1(self):\n",
    "    judge_util.set_ok_tag(self, None)   # 成功時のタグを消去\n",
    "    tag = judge_util.EvaluationTag('GF', 'Given Fails') # 新しいタグを定義\n",
    "    judge_util.set_fail_tag(self, tag) # 失敗時のタグを上書き\n",
    "    self.assertIn(find_nearest(range(1,20,2), 4), (3,5))"
   ]
  },
  {
   "cell_type": "code",
   "execution_count": null,
   "metadata": {},
   "outputs": [],
   "source": [
    "import judge_util # モジュール全体をそのままの名前でimport\n",
    "\n",
    "Hidden = judge_util.teststage()\n",
    "\n",
    "@judge_util.test_method(Hidden)\n",
    "def h0(self):\n",
    "    _find_nearest = judge_util.argument_logger(self, find_nearest) # 引数のロギング（オプショナル）\n",
    "    self.assertEqual(_find_nearest(range(10), 3), 3)\n",
    "\n",
    "@judge_util.test_method(Hidden)\n",
    "def h1(self):\n",
    "    self.assertIn(find_nearest(range(1,20,2), 6), (5,7))"
   ]
  },
  {
   "cell_type": "markdown",
   "metadata": {},
   "source": [
    "***CONTENT_TYPE: PLAYGROUND***  \n",
    "このセルより下は，課題のビルドに影響しない自由編集領域です．\n",
    "\n",
    "次のコードは，上で定義したテストコードを，このipynb上で実行するためのものです．\n",
    "自動評価と同等の結果を得ます．"
   ]
  },
  {
   "cell_type": "code",
   "execution_count": null,
   "metadata": {},
   "outputs": [],
   "source": [
    "judge_util.unittest_main()"
   ]
  }
 ],
 "metadata": {
  "judge_master": {
   "autograde": true,
   "deadlines": {
    "begin": null,
    "open": null,
    "check": null,
    "close": null,
    "end": null
   },
   "drive": "1UtHxGCnscYweEovUBBa4847Pa2zYWkFa",
   "exercise_key": "ex1-1",
   "score_visibility": null,
   "shared_after_confirmed": null,
   "title": "Ex1-1. Find nearest",
   "version": ""
  },
  "kernelspec": {
   "display_name": "Python 3",
   "language": "python",
   "name": "python3"
  },
  "language_info": {
   "name": "python"
  }
 },
 "nbformat": 4,
 "nbformat_minor": 4
}
