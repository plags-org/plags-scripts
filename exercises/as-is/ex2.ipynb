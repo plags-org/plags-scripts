{
 "cells": [
  {
   "cell_type": "markdown",
   "metadata": {},
   "source": [
    "# Ex2. 自乗\n",
    "\n",
    "$x^2$ を計算する`square(x)`を定義せよ．"
   ]
  }
 ],
 "metadata": {
  "plags": {
   "type": "master",
   "evaluation": true,
   "confidentiality": {
    "score": null,
    "remarks": null
   },
   "deadlines": {
    "begin": null,
    "open": null,
    "check": null,
    "close": null,
    "end": null
   },
   "drive": null,
   "name": "ex2",
   "shared_after_confirmed": null,
   "title": "Ex2. 自乗",
   "version": ""
  },
  "kernelspec": {
   "display_name": "Python 3",
   "language": "python",
   "name": "python3"
  },
  "language_info": {
   "name": "python"
  }
 },
 "nbformat": 4,
 "nbformat_minor": 4
}
