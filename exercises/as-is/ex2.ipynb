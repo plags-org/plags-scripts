{
 "cells": [
  {
   "cell_type": "markdown",
   "metadata": {},
   "source": [
    "# Ex2. Five built-in types\n",
    "\n",
    "数値・文字列・リスト・タプル・辞書を全て使った関数を定義せよ．\n",
    "\n",
    "（以下，解答欄）"
   ]
  },
  {
   "cell_type": "markdown",
   "metadata": {},
   "source": []
  }
 ],
 "metadata": {
  "judge_master": {
   "autograde": false,
   "deadlines": {
    "begin": null,
    "open": null,
    "check": null,
    "close": null,
    "end": null
   },
   "drive": null,
   "exercise_key": "ex2",
   "score_visibility": null,
   "shared_after_confirmed": null,
   "title": "Ex2. Five built-in types",
   "version": "81a3b3b2d8f2d4ac46c0d83e6e2baafe63e0adf2"
  },
  "kernelspec": {
   "display_name": "Python 3",
   "language": "python",
   "name": "python3"
  },
  "language_info": {
   "name": "python"
  }
 },
 "nbformat": 4,
 "nbformat_minor": 4
}
