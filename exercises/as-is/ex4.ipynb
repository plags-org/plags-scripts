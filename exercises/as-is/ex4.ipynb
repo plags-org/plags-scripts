{
 "cells": [
  {
   "cell_type": "markdown",
   "metadata": {},
   "source": [
    "# Ex4. 特殊なテストケースの例\n",
    "\n",
    "* 「生命、宇宙、そして万物についての究極の疑問の答え」を変数 `deep_thought` として定義せよ．\n",
    "* $\\sqrt{x}$を計算する関数 `sqrt(x)` を定義せよ．\n",
    "* 調和数列$1,\\frac{1}{2},\\frac{1}{3},\\ldots$の$n$項までをリストで返す関数 `harmonic_progression(n)` を定義せよ．\n",
    "* $x^2$を `print` で印字する関数 `print_square(x)` を定義せよ．\n",
    "* 文字列 `'hello, world'` 標準出力に印字する関数 `hello_world()` を定義せよ． \n",
    "* $n!$を再帰呼び出しによって計算する関数 `factorial(n)` を定義せよ．"
   ]
  }
 ],
 "metadata": {
  "plags": {
   "type": "master",
   "evaluation": true,
   "confidentiality": {
    "score": null,
    "remarks": null
   },
   "deadlines": {
    "begin": null,
    "open": null,
    "check": null,
    "close": null,
    "end": null
   },
   "drive": null,
   "name": "ex4",
   "shared_after_confirmed": null,
   "title": "Ex4. 特殊なテストケースの例",
   "version": ""
  },
  "kernelspec": {
   "display_name": "Python 3",
   "language": "python",
   "name": "python3"
  },
  "language_info": {
   "name": "python"
  }
 },
 "nbformat": 4,
 "nbformat_minor": 4
}
