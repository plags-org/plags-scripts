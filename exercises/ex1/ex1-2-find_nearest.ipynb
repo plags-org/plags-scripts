{
 "cells": [
  {
   "cell_type": "markdown",
   "metadata": {},
   "source": [
    "***CONTENT_TYPE: WARNING: NEVER EDIT THE SYSTEM CELLS !!!***  \n",
    "***(BECOME GRAY AFTER EXECUTING THE CELL BELOW)***\n",
    "\n",
    "## **First of all, execute the cell below to gray-out the system cells**\n",
    "\n",
    "↓↓↓↓↓↓↓↓↓↓↓↓↓↓↓↓↓↓↓↓↓↓↓↓↓↓↓↓↓↓↓↓↓↓↓↓↓↓↓↓↓↓↓↓↓↓↓↓↓↓"
   ]
  },
  {
   "cell_type": "code",
   "execution_count": 8,
   "metadata": {},
   "outputs": [
    {
     "data": {
      "text/html": [
       "<script>var cells = $(\".rendered_html\");for (let i=0;i<cells.length;i++){if ($(cells[i]).text().includes(\"CONTENT_TYPE: \")){$(cells[i]).css(\"background-color\",\"#ccc\");}}</script>"
      ],
      "text/plain": [
       "<IPython.core.display.HTML object>"
      ]
     },
     "metadata": {},
     "output_type": "display_data"
    }
   ],
   "source": [
    "from IPython.core.display import display, HTML\n",
    "display(HTML(\"\"\"<script>var cells = $(\".rendered_html\");for (let i=0;i<cells.length;i++){if ($(cells[i]).text().includes(\"CONTENT_TYPE: \")){$(cells[i]).css(\"background-color\",\"#ccc\");}}</script>\"\"\"))"
   ]
  },
  {
   "cell_type": "markdown",
   "metadata": {},
   "source": [
    "***CONTENT_TYPE: CONTENT_JA***  \n",
    "↓日本語での課題説明を書いてください。説明は `## 課題名` から始めてください。"
   ]
  },
  {
   "cell_type": "markdown",
   "metadata": {},
   "source": [
    "## Ex1-2. Nearst without iteration\n",
    "数値のイテラブル`iterable`と，数値`key`を取って，`iterable`の中から`key`と一番近い値を返す`find_nearest(iterable, key)`を，for文やwhile文による反復を用いずに定義せよ．"
   ]
  },
  {
   "cell_type": "markdown",
   "metadata": {},
   "source": [
    "***CONTENT_TYPE: CONTENT_EN***  \n",
    "↓Give a description of this exercise in English. Please begin with `## EXERCISE_NAME`."
   ]
  },
  {
   "cell_type": "markdown",
   "metadata": {},
   "source": [
    "## Ex1-1. Nearst"
   ]
  },
  {
   "cell_type": "markdown",
   "metadata": {},
   "source": [
    "***CONTENT_TYPE: STUDENT_CODE_CELL***  \n",
    "↓学生版向けの既定のセル内容を記述してください。"
   ]
  },
  {
   "cell_type": "code",
   "execution_count": null,
   "metadata": {},
   "outputs": [],
   "source": [
    "def find_nearest(iterable, key):\n",
    "    ..."
   ]
  },
  {
   "cell_type": "markdown",
   "metadata": {},
   "source": [
    "***CONTENT_TYPE: EXPLANATION_JA***  \n",
    "↓日本語での課題解説を記述してください。解説は `## 解説` から始めてください。不要であれば空欄としてください。複数セルも可能ですが、先頭はMarkdownセルに限定されます。"
   ]
  },
  {
   "cell_type": "markdown",
   "metadata": {},
   "source": []
  },
  {
   "cell_type": "markdown",
   "metadata": {},
   "source": [
    "***CONTENT_TYPE: ANSWER_EXAMPLES***  \n",
    "↓模範解答となるセル内容を記述してください。 **一つのセルに複数書かず、例一つ毎に一つのコードセルに入れてください。またセル先頭には、正解のものには `AS_` から、不正解のものには `FE_` から始まる一意なファイル名を含むコメント行をつけてください。また最初のセルには模範解答を入力してください。**"
   ]
  },
  {
   "cell_type": "code",
   "execution_count": 5,
   "metadata": {},
   "outputs": [],
   "source": [
    "## AS_setmaster.py\n",
    "\n",
    "def find_nearest(iterable, key):\n",
    "    return min(iterable, default=None, key=lambda x: abs(x - key))"
   ]
  },
  {
   "cell_type": "code",
   "execution_count": 7,
   "metadata": {},
   "outputs": [],
   "source": [
    "## FE_wrong.py\n",
    "\n",
    "def find_nearest(iterable, key):\n",
    "    return min(iterable, default=None, key=lambda x: x - key)"
   ]
  },
  {
   "cell_type": "code",
   "execution_count": 15,
   "metadata": {},
   "outputs": [],
   "source": [
    "## FE_wrong_with_loop.py\n",
    "\n",
    "def find_nearest(iterable, key):\n",
    "    nearest = None\n",
    "    for x in iterable:\n",
    "        if nearest is None or abs(x - key) < abs(nearest - key):\n",
    "            nearest = x\n",
    "    return nearest"
   ]
  },
  {
   "cell_type": "markdown",
   "metadata": {},
   "source": [
    "***CONTENT_TYPE: STUDENT_TEST_CELL***  \n",
    "↓学生版向けのテストセル内容を記述してください。"
   ]
  },
  {
   "cell_type": "code",
   "execution_count": 16,
   "metadata": {},
   "outputs": [],
   "source": [
    "assert find_nearest(range(10), 7) == 7\n",
    "assert find_nearest(range(1,20,2), 4) in (3,5)"
   ]
  },
  {
   "cell_type": "markdown",
   "metadata": {},
   "source": [
    "***CONTENT_TYPE: SYSTEM_TEST_CASES_EXECUTE_CELL***  \n",
    "↓自動評価向けのテストケースを実行できます。 **これを実行する前に下のセルを実行してテストケースを追加してください。**"
   ]
  },
  {
   "cell_type": "code",
   "execution_count": 17,
   "metadata": {},
   "outputs": [
    {
     "name": "stderr",
     "output_type": "stream",
     "text": [
      "..E\n",
      "======================================================================\n",
      "ERROR: test_C_1_0_function_has_no_loop (judge_util.JudgeTestCase)\n",
      "----------------------------------------------------------------------\n",
      "Traceback (most recent call last):\n",
      "  File \"<ipython-input-13-cc0aa603be70>\", line 20, in function_has_no_loop\n",
      "    judge_util.raise_if_loop_exists(find_nearest)\n",
      "  File \".judge\\judge_util.py\", line 34, in raise_if_loop_exists\n",
      "    raise LoopFoundException('For loop found')\n",
      "judge_util.LoopFoundException: For loop found\n",
      "\n",
      "----------------------------------------------------------------------\n",
      "Ran 3 tests in 0.005s\n",
      "\n",
      "FAILED (errors=1)\n"
     ]
    },
    {
     "data": {
      "text/plain": [
       "<unittest.main.TestProgram at 0x2407c1fd3d0>"
      ]
     },
     "execution_count": 17,
     "metadata": {},
     "output_type": "execute_result"
    }
   ],
   "source": [
    "import unittest\n",
    "unittest.main(argv=[''], exit=False)"
   ]
  },
  {
   "cell_type": "markdown",
   "metadata": {},
   "source": [
    "***CONTENT_TYPE: SYSTEM_TEST_CASES***  \n",
    "↓自動評価向けのテストケースを記述してください。**一つのセルに複数書かず、テストケース一つ毎に一つのコードセルに入れてください。またセル先頭には一意なファイル名を含むコメント行をつけてください。**"
   ]
  },
  {
   "cell_type": "code",
   "execution_count": 13,
   "metadata": {},
   "outputs": [],
   "source": [
    "## is_valid_submission.py\n",
    "\n",
    "import sys\n",
    "sys.path.append('.judge')\n",
    "import judge_util\n",
    "JudgeTestCase = judge_util.JudgeTestCase\n",
    "\n",
    "score = 1\n",
    "\n",
    "@judge_util.judge_precheck(score)\n",
    "def function_exists():\n",
    "    judge_util.raise_if_null_function(find_nearest)\n",
    "\n",
    "@judge_util.judge_precheck(score)\n",
    "def function_filled():\n",
    "    judge_util.raise_if_null_function(find_nearest)\n",
    "\n",
    "@judge_util.judge_precheck(score)\n",
    "def function_has_no_loop():\n",
    "    judge_util.raise_if_loop_exists(find_nearest)"
   ]
  },
  {
   "cell_type": "code",
   "execution_count": null,
   "metadata": {},
   "outputs": [],
   "source": [
    "## given.py\n",
    "\n",
    "import sys\n",
    "sys.path.append('.judge')\n",
    "import judge_util\n",
    "JudgeTestCase = judge_util.JudgeTestCase\n",
    "\n",
    "score = 1\n",
    "find_nearest = judge_util.argument_logger(find_nearest)\n",
    "\n",
    "@judge_util.judge_test(score)\n",
    "def G0(self):\n",
    "    self.assertEqual(find_nearest(range(10), 7), 7)\n",
    "\n",
    "@judge_util.judge_test(score)\n",
    "def G1(self):\n",
    "    self.assertIn(find_nearest(range(1,20,2), 4), (3,5))"
   ]
  },
  {
   "cell_type": "code",
   "execution_count": null,
   "metadata": {},
   "outputs": [],
   "source": [
    "## additional.py\n",
    "\n",
    "import sys\n",
    "sys.path.append('.judge')\n",
    "import judge_util\n",
    "JudgeTestCase = judge_util.JudgeTestCase\n",
    "\n",
    "score = 1\n",
    "find_nearest = judge_util.argument_logger(find_nearest)\n",
    "\n",
    "@judge_util.judge_test(score)\n",
    "def A0(self):\n",
    "    self.assertEqual(find_nearest(range(10), 3), 3)\n",
    "\n",
    "@judge_util.judge_test(score)\n",
    "def A1(self):\n",
    "    self.assertIn(find_nearest(range(1,20,2), 6), (5,7))"
   ]
  },
  {
   "cell_type": "markdown",
   "metadata": {},
   "source": [
    "***CONTENT_TYPE: SYSTEM_TEST_REQUIRE_FILES***  \n",
    "↓自動評価で使用するファイルを記述してください。"
   ]
  },
  {
   "cell_type": "raw",
   "metadata": {},
   "source": [
    "---\n",
    "require_files:\n",
    "  - [.judge, judge_util.py]"
   ]
  },
  {
   "cell_type": "markdown",
   "metadata": {},
   "source": [
    "***CONTENT_TYPE: SYSTEM_TEST_SETTING***  \n",
    "↓自動評価向けの各種設定を記述してください。"
   ]
  },
  {
   "cell_type": "raw",
   "metadata": {},
   "source": [
    "---\n",
    "version: 2020SS\n",
    "editor:\n",
    "  codemirror:\n",
    "    mode:\n",
    "      name: python\n",
    "      singleLineStringErrors: true\n",
    "container: container__ut_ipp__py374\n",
    "submission:\n",
    "  filename: submission.py\n",
    "entry: is_valid_submission\n",
    "dag:\n",
    "  is_valid_submission: {\n",
    "    runner: test_runner_py37_unittest.py, timeout: 2, grade_arrange: worst,\n",
    "    require_files: [[.judge, judge_util.py]],\n",
    "    runner_setting: { evaluation_style: concatenate },\n",
    "    transitions: { only(CS): given, else: end } }\n",
    "  given: {\n",
    "    runner: test_runner_py37_unittest.py, timeout: 2, grade_arrange: worst,\n",
    "    require_files: [[.judge, judge_util.py]],\n",
    "    runner_setting: { evaluation_style: concatenate },\n",
    "    transitions: { only(CO|CS): additional, else: end } }\n",
    "  additional: {\n",
    "    runner: test_runner_py37_unittest.py, timeout: 2, grade_arrange: worst,\n",
    "    require_files: [[.judge, judge_util.py]],\n",
    "    runner_setting: { evaluation_style: concatenate },\n",
    "    transitions: { else: end } }\n",
    "arrange:\n",
    "  status: perfect\n",
    "  statuses: unique\n",
    "  grade: worst"
   ]
  },
  {
   "cell_type": "code",
   "execution_count": null,
   "metadata": {},
   "outputs": [],
   "source": []
  }
 ],
 "metadata": {
  "exercise_version": "e8069133c347d6146f58c4f705590e5b65ae0acf",
  "kernelspec": {
   "display_name": "Python 3",
   "language": "python",
   "name": "python3"
  },
  "language_info": {
   "codemirror_mode": {
    "name": "ipython",
    "version": 3
   },
   "file_extension": ".py",
   "mimetype": "text/x-python",
   "name": "python",
   "nbconvert_exporter": "python",
   "pygments_lexer": "ipython3",
   "version": "3.8.3"
  }
 },
 "nbformat": 4,
 "nbformat_minor": 2
}
