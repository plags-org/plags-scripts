{
 "cells": [
  {
   "cell_type": "markdown",
   "metadata": {},
   "source": [
    "***CONTENT_TYPE: WARNING***  \n",
    "`CONTENT_TYPE:`から始まるセルは，システム用なので書き換えないで下さい．"
   ]
  },
  {
   "cell_type": "markdown",
   "metadata": {},
   "source": [
    "***CONTENT_TYPE: CONTENT***  \n",
    "↓課題説明を書いてください．\n",
    "`## 課題名` から始まるMarkdownセルで始めてください．\n",
    "その`課題名`は，課題一覧に表示されます．\n",
    "複数セル可，省略不可．"
   ]
  },
  {
   "cell_type": "markdown",
   "metadata": {},
   "source": [
    "## Ex1-2. Nearst without iteration\n",
    "数値のイテラブル`iterable`と，数値`key`を取って，`iterable`の中から`key`と一番近い値を返す関数`find_nearest(iterable, key)`を，for文やwhile文による反復を用いずに定義せよ．"
   ]
  },
  {
   "cell_type": "markdown",
   "metadata": {},
   "source": [
    "***CONTENT_TYPE: STUDENT_CODE_CELL***  \n",
    "↓解答セルにおける既定のコード内容を記述してください．\n",
    "複数セル不可，空白可．"
   ]
  },
  {
   "cell_type": "code",
   "execution_count": null,
   "metadata": {},
   "outputs": [],
   "source": [
    "def find_nearest(iterable, key):\n",
    "    ..."
   ]
  },
  {
   "cell_type": "markdown",
   "metadata": {},
   "source": [
    "***CONTENT_TYPE: EXPLANATION***  \n",
    "↓課題解説を記述してください．\n",
    "`## ...` から始まるMarkdownセルで始めてください．\n",
    "複数セル可，省略可．"
   ]
  },
  {
   "cell_type": "markdown",
   "metadata": {},
   "source": []
  },
  {
   "cell_type": "markdown",
   "metadata": {},
   "source": [
    "***CONTENT_TYPE: ANSWER_EXAMPLES***  \n",
    "↓解答例をコードセルに記述してください．\n",
    "ここで記述されたコードは，自動評価には使われず，このipynb上でテストコードを走らせたり，解説用ipynbのためにあります．\n",
    "複数セル可，省略不可．"
   ]
  },
  {
   "cell_type": "code",
   "execution_count": null,
   "metadata": {},
   "outputs": [],
   "source": [
    "# A model answer\n",
    "def find_nearest(iterable, key):\n",
    "    return min(iterable, default=None, key=lambda x: abs(x - key))"
   ]
  },
  {
   "cell_type": "code",
   "execution_count": null,
   "metadata": {},
   "outputs": [],
   "source": [
    "# A wrong example missing `abs`\n",
    "def find_nearest(iterable, key):\n",
    "    return min(iterable, default=None, key=lambda x: x - key)"
   ]
  },
  {
   "cell_type": "code",
   "execution_count": null,
   "metadata": {},
   "outputs": [],
   "source": [
    "#　A wrong example using a loop\n",
    "def find_nearest(iterable, key):\n",
    "    nearest = None\n",
    "    for x in iterable:\n",
    "        if nearest is None or abs(x - key) < abs(nearest - key):\n",
    "            nearest = x\n",
    "    return nearest"
   ]
  },
  {
   "cell_type": "markdown",
   "metadata": {},
   "source": [
    "***CONTENT_TYPE: STUDENT_TESTS***  \n",
    "↓学生版向けのテスト指示とテストコードを記述してください．\n",
    "複数セル可，省略可．"
   ]
  },
  {
   "cell_type": "markdown",
   "metadata": {},
   "source": [
    "次のコードセルを実行して，エラーが出ないことを確認してください．"
   ]
  },
  {
   "cell_type": "code",
   "execution_count": null,
   "metadata": {},
   "outputs": [],
   "source": [
    "assert find_nearest(range(10), 7) == 7\n",
    "assert find_nearest(range(1,20,2), 4) in (3,5)"
   ]
  },
  {
   "cell_type": "markdown",
   "metadata": {},
   "source": [
    "***CONTENT_TYPE: SYSTEM_TEST_CASES***  \n",
    "↓自動評価向けのテストケースを記述してください．\n",
    "**1つのセルが1つの独立したテストモジュール**になります．\n",
    "**セル先頭には一意なファイル名を含むコメント行**を付与してください．\n",
    "複数セル可，省略不可．"
   ]
  },
  {
   "cell_type": "code",
   "execution_count": null,
   "metadata": {},
   "outputs": [],
   "source": [
    "## is_valid_submission.py\n",
    "\n",
    "import sys\n",
    "sys.path.append('.judge')\n",
    "import judge_util\n",
    "JudgeTestCase = judge_util.JudgeTestCase\n",
    "\n",
    "score = 1\n",
    "\n",
    "@judge_util.judge_precheck(score)\n",
    "def function_exists():\n",
    "    judge_util.raise_if_null_function(find_nearest)\n",
    "\n",
    "@judge_util.judge_precheck(score)\n",
    "def function_filled():\n",
    "    judge_util.raise_if_null_function(find_nearest)\n",
    "\n",
    "@judge_util.judge_precheck(score)\n",
    "def function_has_no_loop():\n",
    "    judge_util.raise_if_loop_exists(find_nearest)"
   ]
  },
  {
   "cell_type": "code",
   "execution_count": null,
   "metadata": {},
   "outputs": [],
   "source": [
    "## given.py\n",
    "\n",
    "import sys\n",
    "sys.path.append('.judge')\n",
    "import judge_util\n",
    "JudgeTestCase = judge_util.JudgeTestCase\n",
    "\n",
    "score = 1\n",
    "find_nearest = judge_util.argument_logger(find_nearest)\n",
    "\n",
    "@judge_util.judge_test(score)\n",
    "def G0(self):\n",
    "    self.assertEqual(find_nearest(range(10), 7), 7)\n",
    "\n",
    "@judge_util.judge_test(score)\n",
    "def G1(self):\n",
    "    self.assertIn(find_nearest(range(1,20,2), 4), (3,5))"
   ]
  },
  {
   "cell_type": "code",
   "execution_count": null,
   "metadata": {},
   "outputs": [],
   "source": [
    "## additional.py\n",
    "\n",
    "import sys\n",
    "sys.path.append('.judge')\n",
    "import judge_util\n",
    "JudgeTestCase = judge_util.JudgeTestCase\n",
    "\n",
    "score = 1\n",
    "find_nearest = judge_util.argument_logger(find_nearest)\n",
    "\n",
    "@judge_util.judge_test(score)\n",
    "def A0(self):\n",
    "    self.assertEqual(find_nearest(range(10), 3), 3)\n",
    "\n",
    "@judge_util.judge_test(score)\n",
    "def A1(self):\n",
    "    self.assertIn(find_nearest(range(1,20,2), 6), (5,7))"
   ]
  },
  {
   "cell_type": "markdown",
   "metadata": {},
   "source": [
    "***CONTENT_TYPE: SYSTEM_TEST_CASES_EXECUTE_CELL***  \n",
    "上のセルで定義したテストコードを実行するコードです．\n",
    "自動評価と同等の結果を得ます．"
   ]
  },
  {
   "cell_type": "code",
   "execution_count": null,
   "metadata": {},
   "outputs": [],
   "source": [
    "import unittest\n",
    "unittest.main(argv=[''], exit=False)"
   ]
  },
  {
   "cell_type": "markdown",
   "metadata": {},
   "source": [
    "***CONTENT_TYPE: SYSTEM_TEST_REQUIRE_FILES***  \n",
    "↓自動評価で使用するファイルパスのリストをPython式で記述してください．\n",
    "複数セル不可，省略可．"
   ]
  },
  {
   "cell_type": "code",
   "execution_count": null,
   "metadata": {},
   "outputs": [],
   "source": [
    "['.judge/judge_util.py']"
   ]
  },
  {
   "cell_type": "markdown",
   "metadata": {},
   "source": [
    "***CONTENT_TYPE: SYSTEM_TEST_SETTING***  \n",
    "↓自動評価向けの各種設定を記述してください．\n",
    "直下のセル1つのみ有効，省略不可．"
   ]
  },
  {
   "cell_type": "raw",
   "metadata": {},
   "source": [
    "---\n",
    "version: 2020SS\n",
    "editor:\n",
    "  codemirror:\n",
    "    mode:\n",
    "      name: python\n",
    "      singleLineStringErrors: true\n",
    "container: container__ut_ipp__py374\n",
    "submission:\n",
    "  filename: submission.py\n",
    "entry: is_valid_submission\n",
    "dag:\n",
    "  is_valid_submission: {\n",
    "    runner: test_runner_py37_unittest.py, timeout: 2, grade_arrange: worst,\n",
    "    require_files: [[.judge, judge_util.py]],\n",
    "    runner_setting: { evaluation_style: concatenate },\n",
    "    transitions: { only(CS): given, else: end } }\n",
    "  given: {\n",
    "    runner: test_runner_py37_unittest.py, timeout: 2, grade_arrange: worst,\n",
    "    require_files: [[.judge, judge_util.py]],\n",
    "    runner_setting: { evaluation_style: concatenate },\n",
    "    transitions: { only(CO|CS): additional, else: end } }\n",
    "  additional: {\n",
    "    runner: test_runner_py37_unittest.py, timeout: 2, grade_arrange: worst,\n",
    "    require_files: [[.judge, judge_util.py]],\n",
    "    runner_setting: { evaluation_style: concatenate },\n",
    "    transitions: { else: end } }\n",
    "arrange:\n",
    "  status: perfect\n",
    "  statuses: unique\n",
    "  grade: worst"
   ]
  },
  {
   "cell_type": "code",
   "execution_count": null,
   "metadata": {},
   "outputs": [],
   "source": []
  }
 ],
 "metadata": {
  "judge_master": {
   "autograde": true,
   "deadlines": {
    "begins_at": null,
    "opens_at": null,
    "checks_at": null,
    "closes_at": null,
    "ends_at": null
   },
   "exercise_key": "ex1-2-find_nearest",
   "version": "028a3cc65968f319c5fe614af569958104657399"
  },
  "kernelspec": {
   "display_name": "Python 3",
   "language": "python",
   "name": "python3"
  },
  "language_info": {
   "name": ""
  }
 },
 "nbformat": 4,
 "nbformat_minor": 4
}
