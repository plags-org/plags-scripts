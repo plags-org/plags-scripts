{
 "cells": [
  {
   "cell_type": "markdown",
   "metadata": {},
   "source": [
    "***CONTENT_TYPE: WARNING***  \n",
    "`CONTENT_TYPE:`から始まるセルは，システム用なので書き換えないで下さい．"
   ]
  },
  {
   "cell_type": "markdown",
   "metadata": {},
   "source": [
    "***CONTENT_TYPE: CONTENT***  \n",
    "↓課題説明を書いてください．\n",
    "`## 課題名` から始まるMarkdownセルで始めてください．\n",
    "その`課題名`は，課題一覧に表示されます．\n",
    "複数セル可，省略不可．"
   ]
  },
  {
   "cell_type": "markdown",
   "metadata": {},
   "source": [
    "## Ex1-1. Nearst\n",
    "数値のイテラブル`iterable`と，数値`key`を取って，`iterable`の中から`key`と一番近い値を返す関数`find_nearest(iterable, key)`を定義せよ．"
   ]
  },
  {
   "cell_type": "markdown",
   "metadata": {},
   "source": [
    "***CONTENT_TYPE: STUDENT_CODE_CELL***  \n",
    "↓解答セルにおける既定のコード内容を記述してください．\n",
    "複数セル不可，空白可．"
   ]
  },
  {
   "cell_type": "code",
   "execution_count": null,
   "metadata": {},
   "outputs": [],
   "source": [
    "def find_nearest(iterable, key):\n",
    "    ..."
   ]
  },
  {
   "cell_type": "markdown",
   "metadata": {},
   "source": [
    "***CONTENT_TYPE: EXPLANATION***  \n",
    "↓課題解説を記述してください．\n",
    "`## ...` から始まるMarkdownセルで始めてください．\n",
    "複数セル可，省略可．"
   ]
  },
  {
   "cell_type": "markdown",
   "metadata": {},
   "source": []
  },
  {
   "cell_type": "markdown",
   "metadata": {},
   "source": [
    "***CONTENT_TYPE: ANSWER_EXAMPLES***  \n",
    "↓解答例をコードセルに記述してください．\n",
    "ここで記述されたコードは，自動評価には使われず，このipynb上でテストコードを走らせたり，解説用ipynbのためにあります．\n",
    "複数セル可，省略可．"
   ]
  },
  {
   "cell_type": "code",
   "execution_count": null,
   "metadata": {},
   "outputs": [],
   "source": [
    "# A model answer\n",
    "def find_nearest(iterable, key):\n",
    "    nearest = None\n",
    "    for x in iterable:\n",
    "        if nearest is None or abs(x - key) < abs(nearest - key):\n",
    "            nearest = x\n",
    "    return nearest"
   ]
  },
  {
   "cell_type": "code",
   "execution_count": null,
   "metadata": {},
   "outputs": [],
   "source": [
    "# A wrong example to fail to pass tests\n",
    "def find_nearest(iterable, key):\n",
    "    nearest = None\n",
    "    for x in iterable:\n",
    "        if nearest is None or x - key < nearest - key:\n",
    "            nearest = x\n",
    "    return nearest"
   ]
  },
  {
   "cell_type": "markdown",
   "metadata": {},
   "source": [
    "***CONTENT_TYPE: STUDENT_TESTS***  \n",
    "↓学生版向けのテスト指示とテストコードを記述してください．\n",
    "複数セル可，省略可．"
   ]
  },
  {
   "cell_type": "markdown",
   "metadata": {},
   "source": [
    "次のコードセルを実行して，エラーが出ないことを確認してください．"
   ]
  },
  {
   "cell_type": "code",
   "execution_count": null,
   "metadata": {},
   "outputs": [],
   "source": [
    "assert find_nearest(range(10), 7) == 7\n",
    "assert find_nearest(range(1,20,2), 4) in (3,5)"
   ]
  },
  {
   "cell_type": "markdown",
   "metadata": {},
   "source": [
    "***CONTENT_TYPE: SYSTEM_TEST_CASES***  \n",
    "↓自動評価向けのテストケースを記述してください．\n",
    "**1つのセルが1つの独立したテストモジュール**になります．\n",
    "**セル先頭には一意なファイル名を含むコメント行**を付与してください．\n",
    "複数セル可，省略不可．"
   ]
  },
  {
   "cell_type": "code",
   "execution_count": null,
   "metadata": {},
   "outputs": [],
   "source": [
    "## is_valid_submission.py\n",
    "\n",
    "import sys\n",
    "sys.path.append('.judge')\n",
    "import judge_util # モジュール全体をそのままの名前でimport\n",
    "\n",
    "# この名前は任意\n",
    "IsValidSubmission = judge_util.testcase(score=1) # 正解時の得点（default: 1）\n",
    "\n",
    "# precheckは対象関数に対する静的検査\n",
    "@judge_util.precheck(IsValidSubmission)\n",
    "def function_exists():\n",
    "    # assertせずに例外を投げるのでselfを取らない\n",
    "    find_nearest # 定義されていなければNameError\n",
    "\n",
    "@judge_util.precheck(IsValidSubmission)\n",
    "def function_filled():\n",
    "    judge_util.raise_if_null_function(find_nearest) # ...のみをbodyに持つ関数なら例外を投げる"
   ]
  },
  {
   "cell_type": "code",
   "execution_count": null,
   "metadata": {},
   "outputs": [],
   "source": [
    "## given.py\n",
    "\n",
    "import sys\n",
    "sys.path.append('.judge')\n",
    "import judge_util # モジュール全体をそのままの名前でimport\n",
    "\n",
    "# この名前は任意\n",
    "Given = judge_util.testcase(score=1) # 正解時の得点（default: 1）\n",
    "\n",
    "@judge_util.testmethod(Given)\n",
    "def G0(self):\n",
    "    # 引数のselfはunittest.TestCaseのインスタンス\n",
    "    self.assertEqual(find_nearest(range(10), 7), 7)\n",
    "\n",
    "@judge_util.testmethod(Given)\n",
    "def G1(self):\n",
    "    _find_nearest = judge_util.argument_logger(find_nearest) # 引数のロギング（オプショナル）\n",
    "    self.assertIn(_find_nearest(range(1,20,2), 4), (3,5))\n",
    "\n",
    "#NOTE: \n",
    "# 引数ロギングは実引数がリテラルに記述されない時に役立つ．\n",
    "# 自動評価結果のErrorの部分にログが出力される．"
   ]
  },
  {
   "cell_type": "code",
   "execution_count": null,
   "metadata": {},
   "outputs": [],
   "source": [
    "## additional.py\n",
    "\n",
    "import sys\n",
    "sys.path.append('.judge')\n",
    "import judge_util # モジュール全体をそのままの名前でimport\n",
    "\n",
    "# この名前は任意\n",
    "Additional = judge_util.testcase(score=1)\n",
    "\n",
    "@judge_util.testmethod(Additional)\n",
    "def A0(self):\n",
    "    self.assertEqual(find_nearest(range(10), 3), 3)\n",
    "\n",
    "@judge_util.testmethod(Additional)\n",
    "def A1(self):\n",
    "    self.assertIn(find_nearest(range(1,20,2), 6), (5,7))"
   ]
  },
  {
   "cell_type": "markdown",
   "metadata": {},
   "source": [
    "***CONTENT_TYPE: SYSTEM_TEST_CASES_EXECUTE_CELL***  \n",
    "上のセルで定義したテストコードを実行するコードです．\n",
    "自動評価と同等の結果を得ます．"
   ]
  },
  {
   "cell_type": "code",
   "execution_count": null,
   "metadata": {},
   "outputs": [],
   "source": [
    "import unittest\n",
    "unittest.main(argv=[''], exit=False)\n",
    "print('----\\n', judge_util.read_argument_log(), sep='', file=sys.stderr)"
   ]
  },
  {
   "cell_type": "markdown",
   "metadata": {},
   "source": [
    "***CONTENT_TYPE: SYSTEM_TEST_SETTING***  \n",
    "↓自動評価向けの各種設定を記述してください．\n",
    "直下のセル1つのみ有効，省略不可．"
   ]
  },
  {
   "cell_type": "code",
   "execution_count": null,
   "metadata": {},
   "outputs": [],
   "source": [
    "# テストモジュール名とそこで使われるファイルパスのリストの組をテストの実行順で並べたリスト\n",
    "testlist = [\n",
    "    ('is_valid_submission', ['.judge/judge_util.py']),\n",
    "    ('given', ['.judge/judge_util.py']),\n",
    "    ('additional', ['.judge/judge_util.py']),\n",
    "]\n",
    "\n",
    "# 以下はテンプレート\n",
    "def dump_system_test_setting(testlist):\n",
    "    states = {\n",
    "        name: {\n",
    "            'runner': {\n",
    "                'use': 'test_runner_py37_unittest.py',\n",
    "                'version': '',\n",
    "                'options': {'evaluation_style': 'naive'}\n",
    "            },\n",
    "            'time_limit': 2,\n",
    "            'require_files': require_files,\n",
    "            'accumulation_rule': {'status': 'perfect', 'grade': 'worst'},\n",
    "            'transitions': [\n",
    "                {'if': {'only': ['CO', 'CS']}, 'then': testlist[i+1][0]},\n",
    "                {'else': 'end'}\n",
    "            ] if i + 1 < len(testlist) else [{'always': 'end'}]\n",
    "        } for i, (name, require_files) in enumerate(testlist)\n",
    "    }\n",
    "    setting = {\n",
    "        'front': {\n",
    "            'editor': {\n",
    "                'use': 'CodeMirror',\n",
    "                'options': {'mode': {'name': 'python', 'singleLineStringErrors': True}}\n",
    "            },\n",
    "            'rejection': {'reject_initial_source': True}\n",
    "        },\n",
    "        'judge': {\n",
    "            'preprocess': {'rename_filename_to': 'submission.py'},\n",
    "            'environment': {'use': 'python__anaconda3-2020.02', 'version': ''},\n",
    "            'sandbox': {\n",
    "                'use': 'Firejail',\n",
    "                'options': {\n",
    "                    'cpu_limit': 1,\n",
    "                    'memory_limit': '256MiB',\n",
    "                    'network_limit': 'disable'\n",
    "                }\n",
    "            },            \n",
    "            'evaluation_dag': {\n",
    "                'initial_state': testlist[0][0],\n",
    "                'states': states,\n",
    "                'accumulation_rule': {'status': 'perfect', 'grade': 'worst'}\n",
    "            }\n",
    "        },\n",
    "    }\n",
    "    import json\n",
    "    print(json.dumps(setting, indent=1, ensure_ascii=False))\n",
    "    \n",
    "dump_system_test_setting(testlist)"
   ]
  }
 ],
 "metadata": {
  "judge_master": {
   "autograde": true,
   "deadlines": {
    "begins_at": null,
    "opens_at": null,
    "checks_at": null,
    "closes_at": null,
    "ends_at": null
   },
   "exercise_key": "ex1-1-find_nearest",
   "version": "63dc346e0b6182ab87bc7a57231ce33a94e71898"
  },
  "kernelspec": {
   "display_name": "Python 3",
   "language": "python",
   "name": "python3"
  },
  "language_info": {
   "name": ""
  }
 },
 "nbformat": 4,
 "nbformat_minor": 4
}
