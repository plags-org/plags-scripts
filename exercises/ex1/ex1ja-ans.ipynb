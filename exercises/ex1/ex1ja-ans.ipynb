{
 "cells": [
  {
   "cell_type": "markdown",
   "metadata": {},
   "source": [
    "# 第1回本課題"
   ]
  },
  {
   "cell_type": "markdown",
   "metadata": {},
   "source": [
    "## Ex1-1. Nearst\n",
    "数値のイテラブル`iterable`と，数値`key`を取って，`iterable`の中から`key`と一番近い値を返す`find_nearest(iterable, key)`を定義せよ．"
   ]
  },
  {
   "cell_type": "code",
   "execution_count": null,
   "metadata": {},
   "outputs": [],
   "source": [
    "## AS_setmaster.py\n",
    "\n",
    "def find_nearest(iterable, key):\n",
    "    nearest = None\n",
    "    for x in iterable:\n",
    "        if nearest is None or abs(x - key) < abs(nearest - key):\n",
    "            nearest = x\n",
    "    return nearest"
   ]
  },
  {
   "cell_type": "code",
   "execution_count": null,
   "metadata": {},
   "outputs": [],
   "source": [
    "## FE_wrong.py\n",
    "\n",
    "def find_nearest(iterable, key):\n",
    "    nearest = None\n",
    "    for x in iterable:\n",
    "        if nearest is None or x - key < nearest - key:\n",
    "            nearest = x\n",
    "    return nearest"
   ]
  },
  {
   "cell_type": "code",
   "execution_count": null,
   "metadata": {},
   "outputs": [],
   "source": [
    "def function_exists():\n",
    "    judge_util.raise_if_null_function(find_nearest)\n",
    "\n",
    "def function_filled():\n",
    "    judge_util.raise_if_null_function(find_nearest)\n",
    "\n",
    "def G0(self):\n",
    "    self.assertEqual(find_nearest(range(10), 7), 7)\n",
    "\n",
    "def G1(self):\n",
    "    self.assertIn(find_nearest(range(1,20,2), 4), (3,5))\n",
    "\n",
    "def A0(self):\n",
    "    self.assertEqual(find_nearest(range(10), 3), 3)\n",
    "\n",
    "def A1(self):\n",
    "    self.assertIn(find_nearest(range(1,20,2), 6), (5,7))"
   ]
  },
  {
   "cell_type": "markdown",
   "metadata": {},
   "source": [
    "## Ex1-2. Nearst without iteration\n",
    "数値のイテラブル`iterable`と，数値`key`を取って，`iterable`の中から`key`と一番近い値を返す`find_nearest(iterable, key)`を，for文やwhile文による反復を用いずに定義せよ．"
   ]
  },
  {
   "cell_type": "code",
   "execution_count": null,
   "metadata": {},
   "outputs": [],
   "source": [
    "## AS_setmaster.py\n",
    "\n",
    "def find_nearest(iterable, key):\n",
    "    return min(iterable, default=None, key=lambda x: abs(x - key))"
   ]
  },
  {
   "cell_type": "code",
   "execution_count": null,
   "metadata": {},
   "outputs": [],
   "source": [
    "## FE_wrong.py\n",
    "\n",
    "def find_nearest(iterable, key):\n",
    "    return min(iterable, default=None, key=lambda x: x - key)"
   ]
  },
  {
   "cell_type": "code",
   "execution_count": null,
   "metadata": {},
   "outputs": [],
   "source": [
    "## FE_wrong_with_loop.py\n",
    "\n",
    "def find_nearest(iterable, key):\n",
    "    nearest = None\n",
    "    for x in iterable:\n",
    "        if nearest is None or abs(x - key) < abs(nearest - key):\n",
    "            nearest = x\n",
    "    return nearest"
   ]
  },
  {
   "cell_type": "code",
   "execution_count": null,
   "metadata": {},
   "outputs": [],
   "source": [
    "def function_exists():\n",
    "    judge_util.raise_if_null_function(find_nearest)\n",
    "\n",
    "def function_filled():\n",
    "    judge_util.raise_if_null_function(find_nearest)\n",
    "\n",
    "def function_has_no_loop():\n",
    "    judge_util.raise_if_loop_exists(find_nearest)\n",
    "\n",
    "def G0(self):\n",
    "    self.assertEqual(find_nearest(range(10), 7), 7)\n",
    "\n",
    "def G1(self):\n",
    "    self.assertIn(find_nearest(range(1,20,2), 4), (3,5))\n",
    "\n",
    "def A0(self):\n",
    "    self.assertEqual(find_nearest(range(10), 3), 3)\n",
    "\n",
    "def A1(self):\n",
    "    self.assertIn(find_nearest(range(1,20,2), 6), (5,7))"
   ]
  }
 ],
 "metadata": {
  "kernelspec": {
   "display_name": "Python 3",
   "language": "python",
   "name": "python3"
  },
  "language_info": {
   "name": ""
  }
 },
 "nbformat": 4,
 "nbformat_minor": 2
}
